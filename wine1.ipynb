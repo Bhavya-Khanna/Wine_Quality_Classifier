{
 "cells": [
  {
   "cell_type": "code",
   "execution_count": 1,
   "metadata": {},
   "outputs": [],
   "source": [
    "import pandas as pd"
   ]
  },
  {
   "cell_type": "code",
   "execution_count": 2,
   "metadata": {},
   "outputs": [],
   "source": [
    "import matplotlib.pyplot as plt"
   ]
  },
  {
   "cell_type": "code",
   "execution_count": 3,
   "metadata": {},
   "outputs": [],
   "source": [
    "url= 'datasets1/winequality-red.csv'"
   ]
  },
  {
   "cell_type": "code",
   "execution_count": 4,
   "metadata": {},
   "outputs": [],
   "source": [
    "df= pd.read_csv(url)"
   ]
  },
  {
   "cell_type": "code",
   "execution_count": 5,
   "metadata": {},
   "outputs": [
    {
     "data": {
      "text/html": [
       "<div>\n",
       "<style scoped>\n",
       "    .dataframe tbody tr th:only-of-type {\n",
       "        vertical-align: middle;\n",
       "    }\n",
       "\n",
       "    .dataframe tbody tr th {\n",
       "        vertical-align: top;\n",
       "    }\n",
       "\n",
       "    .dataframe thead th {\n",
       "        text-align: right;\n",
       "    }\n",
       "</style>\n",
       "<table border=\"1\" class=\"dataframe\">\n",
       "  <thead>\n",
       "    <tr style=\"text-align: right;\">\n",
       "      <th></th>\n",
       "      <th>fixed acidity</th>\n",
       "      <th>volatile acidity</th>\n",
       "      <th>citric acid</th>\n",
       "      <th>residual sugar</th>\n",
       "      <th>chlorides</th>\n",
       "      <th>free sulfur dioxide</th>\n",
       "      <th>total sulfur dioxide</th>\n",
       "      <th>density</th>\n",
       "      <th>pH</th>\n",
       "      <th>sulphates</th>\n",
       "      <th>alcohol</th>\n",
       "      <th>quality</th>\n",
       "    </tr>\n",
       "  </thead>\n",
       "  <tbody>\n",
       "    <tr>\n",
       "      <th>0</th>\n",
       "      <td>7.4</td>\n",
       "      <td>0.70</td>\n",
       "      <td>0.00</td>\n",
       "      <td>1.9</td>\n",
       "      <td>0.076</td>\n",
       "      <td>11.0</td>\n",
       "      <td>34.0</td>\n",
       "      <td>0.9978</td>\n",
       "      <td>3.51</td>\n",
       "      <td>0.56</td>\n",
       "      <td>9.4</td>\n",
       "      <td>5</td>\n",
       "    </tr>\n",
       "    <tr>\n",
       "      <th>1</th>\n",
       "      <td>7.8</td>\n",
       "      <td>0.88</td>\n",
       "      <td>0.00</td>\n",
       "      <td>2.6</td>\n",
       "      <td>0.098</td>\n",
       "      <td>25.0</td>\n",
       "      <td>67.0</td>\n",
       "      <td>0.9968</td>\n",
       "      <td>3.20</td>\n",
       "      <td>0.68</td>\n",
       "      <td>9.8</td>\n",
       "      <td>5</td>\n",
       "    </tr>\n",
       "    <tr>\n",
       "      <th>2</th>\n",
       "      <td>7.8</td>\n",
       "      <td>0.76</td>\n",
       "      <td>0.04</td>\n",
       "      <td>2.3</td>\n",
       "      <td>0.092</td>\n",
       "      <td>15.0</td>\n",
       "      <td>54.0</td>\n",
       "      <td>0.9970</td>\n",
       "      <td>3.26</td>\n",
       "      <td>0.65</td>\n",
       "      <td>9.8</td>\n",
       "      <td>5</td>\n",
       "    </tr>\n",
       "    <tr>\n",
       "      <th>3</th>\n",
       "      <td>11.2</td>\n",
       "      <td>0.28</td>\n",
       "      <td>0.56</td>\n",
       "      <td>1.9</td>\n",
       "      <td>0.075</td>\n",
       "      <td>17.0</td>\n",
       "      <td>60.0</td>\n",
       "      <td>0.9980</td>\n",
       "      <td>3.16</td>\n",
       "      <td>0.58</td>\n",
       "      <td>9.8</td>\n",
       "      <td>6</td>\n",
       "    </tr>\n",
       "    <tr>\n",
       "      <th>4</th>\n",
       "      <td>7.4</td>\n",
       "      <td>0.70</td>\n",
       "      <td>0.00</td>\n",
       "      <td>1.9</td>\n",
       "      <td>0.076</td>\n",
       "      <td>11.0</td>\n",
       "      <td>34.0</td>\n",
       "      <td>0.9978</td>\n",
       "      <td>3.51</td>\n",
       "      <td>0.56</td>\n",
       "      <td>9.4</td>\n",
       "      <td>5</td>\n",
       "    </tr>\n",
       "  </tbody>\n",
       "</table>\n",
       "</div>"
      ],
      "text/plain": [
       "   fixed acidity  volatile acidity  citric acid  residual sugar  chlorides  \\\n",
       "0            7.4              0.70         0.00             1.9      0.076   \n",
       "1            7.8              0.88         0.00             2.6      0.098   \n",
       "2            7.8              0.76         0.04             2.3      0.092   \n",
       "3           11.2              0.28         0.56             1.9      0.075   \n",
       "4            7.4              0.70         0.00             1.9      0.076   \n",
       "\n",
       "   free sulfur dioxide  total sulfur dioxide  density    pH  sulphates  \\\n",
       "0                 11.0                  34.0   0.9978  3.51       0.56   \n",
       "1                 25.0                  67.0   0.9968  3.20       0.68   \n",
       "2                 15.0                  54.0   0.9970  3.26       0.65   \n",
       "3                 17.0                  60.0   0.9980  3.16       0.58   \n",
       "4                 11.0                  34.0   0.9978  3.51       0.56   \n",
       "\n",
       "   alcohol  quality  \n",
       "0      9.4        5  \n",
       "1      9.8        5  \n",
       "2      9.8        5  \n",
       "3      9.8        6  \n",
       "4      9.4        5  "
      ]
     },
     "execution_count": 5,
     "metadata": {},
     "output_type": "execute_result"
    }
   ],
   "source": [
    "df.head()"
   ]
  },
  {
   "cell_type": "code",
   "execution_count": 6,
   "metadata": {},
   "outputs": [],
   "source": [
    "df['fixed acidity'] = df['fixed acidity']/df['fixed acidity'].max()\n",
    "df['residual sugar'] = df['residual sugar']/df['residual sugar'].max()\n",
    "df['free sulfur dioxide'] = df['free sulfur dioxide']/df['free sulfur dioxide'].max()\n",
    "df['total sulfur dioxide'] = df['total sulfur dioxide']/df['total sulfur dioxide'].max()\n",
    "df['pH'] = df['pH']/df['pH'].max()\n",
    "df['alcohol'] = df['alcohol']/df['alcohol'].max()\n"
   ]
  },
  {
   "cell_type": "code",
   "execution_count": 7,
   "metadata": {},
   "outputs": [
    {
     "data": {
      "text/html": [
       "<div>\n",
       "<style scoped>\n",
       "    .dataframe tbody tr th:only-of-type {\n",
       "        vertical-align: middle;\n",
       "    }\n",
       "\n",
       "    .dataframe tbody tr th {\n",
       "        vertical-align: top;\n",
       "    }\n",
       "\n",
       "    .dataframe thead th {\n",
       "        text-align: right;\n",
       "    }\n",
       "</style>\n",
       "<table border=\"1\" class=\"dataframe\">\n",
       "  <thead>\n",
       "    <tr style=\"text-align: right;\">\n",
       "      <th></th>\n",
       "      <th>fixed acidity</th>\n",
       "      <th>volatile acidity</th>\n",
       "      <th>citric acid</th>\n",
       "      <th>residual sugar</th>\n",
       "      <th>chlorides</th>\n",
       "      <th>free sulfur dioxide</th>\n",
       "      <th>total sulfur dioxide</th>\n",
       "      <th>density</th>\n",
       "      <th>pH</th>\n",
       "      <th>sulphates</th>\n",
       "      <th>alcohol</th>\n",
       "      <th>quality</th>\n",
       "    </tr>\n",
       "  </thead>\n",
       "  <tbody>\n",
       "    <tr>\n",
       "      <th>0</th>\n",
       "      <td>0.465409</td>\n",
       "      <td>0.70</td>\n",
       "      <td>0.00</td>\n",
       "      <td>0.122581</td>\n",
       "      <td>0.076</td>\n",
       "      <td>0.152778</td>\n",
       "      <td>0.117647</td>\n",
       "      <td>0.9978</td>\n",
       "      <td>0.875312</td>\n",
       "      <td>0.56</td>\n",
       "      <td>0.630872</td>\n",
       "      <td>5</td>\n",
       "    </tr>\n",
       "    <tr>\n",
       "      <th>1</th>\n",
       "      <td>0.490566</td>\n",
       "      <td>0.88</td>\n",
       "      <td>0.00</td>\n",
       "      <td>0.167742</td>\n",
       "      <td>0.098</td>\n",
       "      <td>0.347222</td>\n",
       "      <td>0.231834</td>\n",
       "      <td>0.9968</td>\n",
       "      <td>0.798005</td>\n",
       "      <td>0.68</td>\n",
       "      <td>0.657718</td>\n",
       "      <td>5</td>\n",
       "    </tr>\n",
       "    <tr>\n",
       "      <th>2</th>\n",
       "      <td>0.490566</td>\n",
       "      <td>0.76</td>\n",
       "      <td>0.04</td>\n",
       "      <td>0.148387</td>\n",
       "      <td>0.092</td>\n",
       "      <td>0.208333</td>\n",
       "      <td>0.186851</td>\n",
       "      <td>0.9970</td>\n",
       "      <td>0.812968</td>\n",
       "      <td>0.65</td>\n",
       "      <td>0.657718</td>\n",
       "      <td>5</td>\n",
       "    </tr>\n",
       "    <tr>\n",
       "      <th>3</th>\n",
       "      <td>0.704403</td>\n",
       "      <td>0.28</td>\n",
       "      <td>0.56</td>\n",
       "      <td>0.122581</td>\n",
       "      <td>0.075</td>\n",
       "      <td>0.236111</td>\n",
       "      <td>0.207612</td>\n",
       "      <td>0.9980</td>\n",
       "      <td>0.788030</td>\n",
       "      <td>0.58</td>\n",
       "      <td>0.657718</td>\n",
       "      <td>6</td>\n",
       "    </tr>\n",
       "    <tr>\n",
       "      <th>4</th>\n",
       "      <td>0.465409</td>\n",
       "      <td>0.70</td>\n",
       "      <td>0.00</td>\n",
       "      <td>0.122581</td>\n",
       "      <td>0.076</td>\n",
       "      <td>0.152778</td>\n",
       "      <td>0.117647</td>\n",
       "      <td>0.9978</td>\n",
       "      <td>0.875312</td>\n",
       "      <td>0.56</td>\n",
       "      <td>0.630872</td>\n",
       "      <td>5</td>\n",
       "    </tr>\n",
       "  </tbody>\n",
       "</table>\n",
       "</div>"
      ],
      "text/plain": [
       "   fixed acidity  volatile acidity  citric acid  residual sugar  chlorides  \\\n",
       "0       0.465409              0.70         0.00        0.122581      0.076   \n",
       "1       0.490566              0.88         0.00        0.167742      0.098   \n",
       "2       0.490566              0.76         0.04        0.148387      0.092   \n",
       "3       0.704403              0.28         0.56        0.122581      0.075   \n",
       "4       0.465409              0.70         0.00        0.122581      0.076   \n",
       "\n",
       "   free sulfur dioxide  total sulfur dioxide  density        pH  sulphates  \\\n",
       "0             0.152778              0.117647   0.9978  0.875312       0.56   \n",
       "1             0.347222              0.231834   0.9968  0.798005       0.68   \n",
       "2             0.208333              0.186851   0.9970  0.812968       0.65   \n",
       "3             0.236111              0.207612   0.9980  0.788030       0.58   \n",
       "4             0.152778              0.117647   0.9978  0.875312       0.56   \n",
       "\n",
       "    alcohol  quality  \n",
       "0  0.630872        5  \n",
       "1  0.657718        5  \n",
       "2  0.657718        5  \n",
       "3  0.657718        6  \n",
       "4  0.630872        5  "
      ]
     },
     "execution_count": 7,
     "metadata": {},
     "output_type": "execute_result"
    }
   ],
   "source": [
    "df.head()"
   ]
  },
  {
   "cell_type": "code",
   "execution_count": 8,
   "metadata": {},
   "outputs": [
    {
     "data": {
      "image/png": "[encoded data removed]",
      "text/plain": [
       "<Figure size 432x288 with 1 Axes>"
      ]
     },
     "metadata": {
      "needs_background": "light"
     },
     "output_type": "display_data"
    }
   ],
   "source": [
    "plt.scatter(df['citric acid'],df['volatile acidity'],color='blue')\n",
    "plt.xlabel('citric acid')\n",
    "plt.ylabel('volatile acidity')\n",
    "plt.show()"
   ]
  },
  {
   "cell_type": "code",
   "execution_count": 9,
   "metadata": {},
   "outputs": [
    {
     "name": "stderr",
     "output_type": "stream",
     "text": [
      "/home/jupyterlab/conda/lib/python3.6/site-packages/scipy/stats/stats.py:1713: FutureWarning: Using a non-tuple sequence for multidimensional indexing is deprecated; use `arr[tuple(seq)]` instead of `arr[seq]`. In the future this will be interpreted as an array index, `arr[np.array(seq)]`, which will result either in an error or a different result.\n",
      "  return np.add.reduce(sorted[indexer] * weights, axis=axis) / sumval\n"
     ]
    },
    {
     "data": {
      "text/plain": [
       "(0, 1.6549683467413039)"
      ]
     },
     "execution_count": 9,
     "metadata": {},
     "output_type": "execute_result"
    },
    {
     "data": {
      "image/png": "[encoded data removed]",
      "text/plain": [
       "<Figure size 432x288 with 1 Axes>"
      ]
     },
     "metadata": {
      "needs_background": "light"
     },
     "output_type": "display_data"
    }
   ],
   "source": [
    "import seaborn as sns\n",
    "sns.regplot(x='citric acid',y='volatile acidity',data=df)\n",
    "plt.ylim(0,)"
   ]
  },
  {
   "cell_type": "code",
   "execution_count": 10,
   "metadata": {},
   "outputs": [],
   "source": [
    "data1 = df[['citric acid','volatile acidity']]\n",
    "correlation = data1.corr(method='pearson')"
   ]
  },
  {
   "cell_type": "code",
   "execution_count": 11,
   "metadata": {},
   "outputs": [
    {
     "name": "stdout",
     "output_type": "stream",
     "text": [
      "                  citric acid  volatile acidity\n",
      "citric acid          1.000000         -0.552496\n",
      "volatile acidity    -0.552496          1.000000\n"
     ]
    }
   ],
   "source": [
    "print(correlation)"
   ]
  },
  {
   "cell_type": "code",
   "execution_count": 12,
   "metadata": {},
   "outputs": [
    {
     "name": "stdout",
     "output_type": "stream",
     "text": [
      "               citric acid  fixed acidity\n",
      "citric acid       1.000000       0.671703\n",
      "fixed acidity     0.671703       1.000000\n"
     ]
    }
   ],
   "source": [
    "data1 = df[['citric acid','fixed acidity']]\n",
    "correlation = data1.corr(method='pearson')\n",
    "print(correlation)"
   ]
  },
  {
   "cell_type": "code",
   "execution_count": 13,
   "metadata": {},
   "outputs": [
    {
     "name": "stdout",
     "output_type": "stream",
     "text": [
      "                citric acid  residual sugar\n",
      "citric acid        1.000000        0.143577\n",
      "residual sugar     0.143577        1.000000\n"
     ]
    }
   ],
   "source": [
    "data1 = df[['citric acid','residual sugar']]\n",
    "correlation = data1.corr(method='pearson')\n",
    "print(correlation)"
   ]
  },
  {
   "cell_type": "code",
   "execution_count": 14,
   "metadata": {},
   "outputs": [
    {
     "name": "stdout",
     "output_type": "stream",
     "text": [
      "             citric acid  chlorides\n",
      "citric acid     1.000000   0.203823\n",
      "chlorides       0.203823   1.000000\n"
     ]
    }
   ],
   "source": [
    "data1 = df[['citric acid','chlorides']]\n",
    "correlation = data1.corr(method='pearson')\n",
    "print(correlation)"
   ]
  },
  {
   "cell_type": "code",
   "execution_count": 15,
   "metadata": {},
   "outputs": [
    {
     "name": "stdout",
     "output_type": "stream",
     "text": [
      "                     citric acid  free sulfur dioxide\n",
      "citric acid             1.000000            -0.060978\n",
      "free sulfur dioxide    -0.060978             1.000000\n"
     ]
    }
   ],
   "source": [
    "data1 = df[['citric acid','free sulfur dioxide']]\n",
    "correlation = data1.corr(method='pearson')\n",
    "print(correlation)"
   ]
  },
  {
   "cell_type": "code",
   "execution_count": 16,
   "metadata": {},
   "outputs": [
    {
     "name": "stdout",
     "output_type": "stream",
     "text": [
      "                      citric acid  total sulfur dioxide\n",
      "citric acid              1.000000              0.035533\n",
      "total sulfur dioxide     0.035533              1.000000\n"
     ]
    }
   ],
   "source": [
    "data1 = df[['citric acid','total sulfur dioxide']]\n",
    "correlation = data1.corr(method='pearson')\n",
    "print(correlation)"
   ]
  },
  {
   "cell_type": "code",
   "execution_count": 17,
   "metadata": {},
   "outputs": [
    {
     "name": "stdout",
     "output_type": "stream",
     "text": [
      "             citric acid   density\n",
      "citric acid     1.000000  0.364947\n",
      "density         0.364947  1.000000\n"
     ]
    }
   ],
   "source": [
    "data1 = df[['citric acid','density']]\n",
    "correlation = data1.corr(method='pearson')\n",
    "print(correlation)"
   ]
  },
  {
   "cell_type": "code",
   "execution_count": 18,
   "metadata": {},
   "outputs": [
    {
     "name": "stdout",
     "output_type": "stream",
     "text": [
      "             citric acid        pH\n",
      "citric acid     1.000000 -0.541904\n",
      "pH             -0.541904  1.000000\n"
     ]
    }
   ],
   "source": [
    "data1 = df[['citric acid','pH']]\n",
    "correlation = data1.corr(method='pearson')\n",
    "print(correlation)"
   ]
  },
  {
   "cell_type": "code",
   "execution_count": 19,
   "metadata": {},
   "outputs": [
    {
     "name": "stdout",
     "output_type": "stream",
     "text": [
      "             citric acid  sulphates\n",
      "citric acid      1.00000    0.31277\n",
      "sulphates        0.31277    1.00000\n"
     ]
    }
   ],
   "source": [
    "data1 = df[['citric acid','sulphates']]\n",
    "correlation = data1.corr(method='pearson')\n",
    "print(correlation)"
   ]
  },
  {
   "cell_type": "code",
   "execution_count": 20,
   "metadata": {},
   "outputs": [
    {
     "name": "stdout",
     "output_type": "stream",
     "text": [
      "             citric acid   alcohol\n",
      "citric acid     1.000000  0.109903\n",
      "alcohol         0.109903  1.000000\n"
     ]
    }
   ],
   "source": [
    "data1 = df[['citric acid','alcohol']]\n",
    "correlation = data1.corr(method='pearson')\n",
    "print(correlation)"
   ]
  },
  {
   "cell_type": "code",
   "execution_count": 21,
   "metadata": {},
   "outputs": [
    {
     "name": "stdout",
     "output_type": "stream",
     "text": [
      "             citric acid   quality\n",
      "citric acid     1.000000  0.226373\n",
      "quality         0.226373  1.000000\n"
     ]
    }
   ],
   "source": [
    "#correlation between quality and others\n",
    "data1 = df[['citric acid','quality']]\n",
    "correlation = data1.corr(method='pearson')\n",
    "print(correlation)"
   ]
  },
  {
   "cell_type": "code",
   "execution_count": 22,
   "metadata": {},
   "outputs": [
    {
     "name": "stdout",
     "output_type": "stream",
     "text": [
      "               fixed acidity   quality\n",
      "fixed acidity       1.000000  0.124052\n",
      "quality             0.124052  1.000000\n"
     ]
    }
   ],
   "source": [
    "data1 = df[['fixed acidity','quality']]\n",
    "correlation = data1.corr(method='pearson')\n",
    "print(correlation)"
   ]
  },
  {
   "cell_type": "code",
   "execution_count": 23,
   "metadata": {},
   "outputs": [
    {
     "name": "stdout",
     "output_type": "stream",
     "text": [
      "                  volatile acidity   quality\n",
      "volatile acidity          1.000000 -0.390558\n",
      "quality                  -0.390558  1.000000\n"
     ]
    }
   ],
   "source": [
    "data1 = df[['volatile acidity','quality']]\n",
    "correlation = data1.corr(method='pearson')\n",
    "print(correlation)"
   ]
  },
  {
   "cell_type": "code",
   "execution_count": 24,
   "metadata": {},
   "outputs": [
    {
     "name": "stdout",
     "output_type": "stream",
     "text": [
      "                residual sugar   quality\n",
      "residual sugar        1.000000  0.013732\n",
      "quality               0.013732  1.000000\n"
     ]
    }
   ],
   "source": [
    "data1 = df[['residual sugar','quality']]\n",
    "correlation = data1.corr(method='pearson')\n",
    "print(correlation)"
   ]
  },
  {
   "cell_type": "code",
   "execution_count": 25,
   "metadata": {},
   "outputs": [
    {
     "name": "stdout",
     "output_type": "stream",
     "text": [
      "           chlorides   quality\n",
      "chlorides   1.000000 -0.128907\n",
      "quality    -0.128907  1.000000\n"
     ]
    }
   ],
   "source": [
    "data1 = df[['chlorides','quality']]\n",
    "correlation = data1.corr(method='pearson')\n",
    "print(correlation)"
   ]
  },
  {
   "cell_type": "code",
   "execution_count": 26,
   "metadata": {},
   "outputs": [
    {
     "name": "stdout",
     "output_type": "stream",
     "text": [
      "                     free sulfur dioxide   quality\n",
      "free sulfur dioxide             1.000000 -0.050656\n",
      "quality                        -0.050656  1.000000\n"
     ]
    }
   ],
   "source": [
    "data1 = df[['free sulfur dioxide','quality']]\n",
    "correlation = data1.corr(method='pearson')\n",
    "print(correlation)"
   ]
  },
  {
   "cell_type": "code",
   "execution_count": 27,
   "metadata": {},
   "outputs": [
    {
     "name": "stdout",
     "output_type": "stream",
     "text": [
      "                      total sulfur dioxide  quality\n",
      "total sulfur dioxide                1.0000  -0.1851\n",
      "quality                            -0.1851   1.0000\n"
     ]
    }
   ],
   "source": [
    "data1 = df[['total sulfur dioxide','quality']]\n",
    "correlation = data1.corr(method='pearson')\n",
    "print(correlation)"
   ]
  },
  {
   "cell_type": "code",
   "execution_count": 28,
   "metadata": {},
   "outputs": [
    {
     "name": "stdout",
     "output_type": "stream",
     "text": [
      "          density   quality\n",
      "density  1.000000 -0.174919\n",
      "quality -0.174919  1.000000\n"
     ]
    }
   ],
   "source": [
    "data1 = df[['density','quality']]\n",
    "correlation = data1.corr(method='pearson')\n",
    "print(correlation)"
   ]
  },
  {
   "cell_type": "code",
   "execution_count": 29,
   "metadata": {},
   "outputs": [
    {
     "name": "stdout",
     "output_type": "stream",
     "text": [
      "               pH   quality\n",
      "pH       1.000000 -0.057731\n",
      "quality -0.057731  1.000000\n"
     ]
    }
   ],
   "source": [
    "data1 = df[['pH','quality']]\n",
    "correlation = data1.corr(method='pearson')\n",
    "print(correlation)"
   ]
  },
  {
   "cell_type": "code",
   "execution_count": 30,
   "metadata": {},
   "outputs": [
    {
     "name": "stdout",
     "output_type": "stream",
     "text": [
      "           sulphates   quality\n",
      "sulphates   1.000000  0.251397\n",
      "quality     0.251397  1.000000\n"
     ]
    }
   ],
   "source": [
    "data1 = df[['sulphates','quality']]\n",
    "correlation = data1.corr(method='pearson')\n",
    "print(correlation)"
   ]
  },
  {
   "cell_type": "code",
   "execution_count": 31,
   "metadata": {},
   "outputs": [
    {
     "name": "stdout",
     "output_type": "stream",
     "text": [
      "          alcohol   quality\n",
      "alcohol  1.000000  0.476166\n",
      "quality  0.476166  1.000000\n"
     ]
    }
   ],
   "source": [
    "data1 = df[['alcohol','quality']]\n",
    "correlation = data1.corr(method='pearson')\n",
    "print(correlation)"
   ]
  },
  {
   "cell_type": "code",
   "execution_count": 32,
   "metadata": {},
   "outputs": [
    {
     "data": {
      "image/png": "[encoded data removed]",
      "text/plain": [
       "<Figure size 432x288 with 1 Axes>"
      ]
     },
     "metadata": {
      "needs_background": "light"
     },
     "output_type": "display_data"
    }
   ],
   "source": [
    "plt.bar(df['alcohol'],df['quality'],color='blue')\n",
    "plt.xlabel('alcohol')\n",
    "plt.ylabel('quality')\n",
    "plt.show()"
   ]
  },
  {
   "cell_type": "code",
   "execution_count": 33,
   "metadata": {},
   "outputs": [
    {
     "data": {
      "text/html": [
       "<div>\n",
       "<style scoped>\n",
       "    .dataframe tbody tr th:only-of-type {\n",
       "        vertical-align: middle;\n",
       "    }\n",
       "\n",
       "    .dataframe tbody tr th {\n",
       "        vertical-align: top;\n",
       "    }\n",
       "\n",
       "    .dataframe thead th {\n",
       "        text-align: right;\n",
       "    }\n",
       "</style>\n",
       "<table border=\"1\" class=\"dataframe\">\n",
       "  <thead>\n",
       "    <tr style=\"text-align: right;\">\n",
       "      <th></th>\n",
       "      <th>fixed acidity</th>\n",
       "      <th>volatile acidity</th>\n",
       "      <th>citric acid</th>\n",
       "      <th>residual sugar</th>\n",
       "      <th>chlorides</th>\n",
       "      <th>free sulfur dioxide</th>\n",
       "      <th>total sulfur dioxide</th>\n",
       "      <th>density</th>\n",
       "      <th>pH</th>\n",
       "      <th>sulphates</th>\n",
       "      <th>alcohol</th>\n",
       "      <th>quality</th>\n",
       "    </tr>\n",
       "  </thead>\n",
       "  <tbody>\n",
       "    <tr>\n",
       "      <th>0</th>\n",
       "      <td>0.465409</td>\n",
       "      <td>0.70</td>\n",
       "      <td>0.00</td>\n",
       "      <td>0.122581</td>\n",
       "      <td>0.076</td>\n",
       "      <td>0.152778</td>\n",
       "      <td>0.117647</td>\n",
       "      <td>0.9978</td>\n",
       "      <td>0.875312</td>\n",
       "      <td>0.56</td>\n",
       "      <td>0.630872</td>\n",
       "      <td>5</td>\n",
       "    </tr>\n",
       "    <tr>\n",
       "      <th>1</th>\n",
       "      <td>0.490566</td>\n",
       "      <td>0.88</td>\n",
       "      <td>0.00</td>\n",
       "      <td>0.167742</td>\n",
       "      <td>0.098</td>\n",
       "      <td>0.347222</td>\n",
       "      <td>0.231834</td>\n",
       "      <td>0.9968</td>\n",
       "      <td>0.798005</td>\n",
       "      <td>0.68</td>\n",
       "      <td>0.657718</td>\n",
       "      <td>5</td>\n",
       "    </tr>\n",
       "    <tr>\n",
       "      <th>2</th>\n",
       "      <td>0.490566</td>\n",
       "      <td>0.76</td>\n",
       "      <td>0.04</td>\n",
       "      <td>0.148387</td>\n",
       "      <td>0.092</td>\n",
       "      <td>0.208333</td>\n",
       "      <td>0.186851</td>\n",
       "      <td>0.9970</td>\n",
       "      <td>0.812968</td>\n",
       "      <td>0.65</td>\n",
       "      <td>0.657718</td>\n",
       "      <td>5</td>\n",
       "    </tr>\n",
       "    <tr>\n",
       "      <th>3</th>\n",
       "      <td>0.704403</td>\n",
       "      <td>0.28</td>\n",
       "      <td>0.56</td>\n",
       "      <td>0.122581</td>\n",
       "      <td>0.075</td>\n",
       "      <td>0.236111</td>\n",
       "      <td>0.207612</td>\n",
       "      <td>0.9980</td>\n",
       "      <td>0.788030</td>\n",
       "      <td>0.58</td>\n",
       "      <td>0.657718</td>\n",
       "      <td>6</td>\n",
       "    </tr>\n",
       "    <tr>\n",
       "      <th>4</th>\n",
       "      <td>0.465409</td>\n",
       "      <td>0.70</td>\n",
       "      <td>0.00</td>\n",
       "      <td>0.122581</td>\n",
       "      <td>0.076</td>\n",
       "      <td>0.152778</td>\n",
       "      <td>0.117647</td>\n",
       "      <td>0.9978</td>\n",
       "      <td>0.875312</td>\n",
       "      <td>0.56</td>\n",
       "      <td>0.630872</td>\n",
       "      <td>5</td>\n",
       "    </tr>\n",
       "  </tbody>\n",
       "</table>\n",
       "</div>"
      ],
      "text/plain": [
       "   fixed acidity  volatile acidity  citric acid  residual sugar  chlorides  \\\n",
       "0       0.465409              0.70         0.00        0.122581      0.076   \n",
       "1       0.490566              0.88         0.00        0.167742      0.098   \n",
       "2       0.490566              0.76         0.04        0.148387      0.092   \n",
       "3       0.704403              0.28         0.56        0.122581      0.075   \n",
       "4       0.465409              0.70         0.00        0.122581      0.076   \n",
       "\n",
       "   free sulfur dioxide  total sulfur dioxide  density        pH  sulphates  \\\n",
       "0             0.152778              0.117647   0.9978  0.875312       0.56   \n",
       "1             0.347222              0.231834   0.9968  0.798005       0.68   \n",
       "2             0.208333              0.186851   0.9970  0.812968       0.65   \n",
       "3             0.236111              0.207612   0.9980  0.788030       0.58   \n",
       "4             0.152778              0.117647   0.9978  0.875312       0.56   \n",
       "\n",
       "    alcohol  quality  \n",
       "0  0.630872        5  \n",
       "1  0.657718        5  \n",
       "2  0.657718        5  \n",
       "3  0.657718        6  \n",
       "4  0.630872        5  "
      ]
     },
     "execution_count": 33,
     "metadata": {},
     "output_type": "execute_result"
    }
   ],
   "source": [
    "df.head()"
   ]
  },
  {
   "cell_type": "code",
   "execution_count": 34,
   "metadata": {},
   "outputs": [
    {
     "data": {
      "image/png": "[encoded data removed]",
      "text/plain": [
       "<Figure size 432x288 with 1 Axes>"
      ]
     },
     "metadata": {
      "needs_background": "light"
     },
     "output_type": "display_data"
    }
   ],
   "source": [
    "plt.bar(df['alcohol'],df['quality'],color='blue')\n",
    "plt.xlabel('alcohol')\n",
    "plt.ylabel('quality')\n",
    "plt.show()"
   ]
  },
  {
   "cell_type": "code",
   "execution_count": 35,
   "metadata": {},
   "outputs": [
    {
     "data": {
      "image/png": "[encoded data removed]",
      "text/plain": [
       "<Figure size 432x288 with 1 Axes>"
      ]
     },
     "metadata": {
      "needs_background": "light"
     },
     "output_type": "display_data"
    }
   ],
   "source": [
    "plt.scatter(df['alcohol'],df['quality'],color='blue')\n",
    "plt.xlabel('alcohol')\n",
    "plt.ylabel('quality')\n",
    "plt.show()"
   ]
  },
  {
   "cell_type": "code",
   "execution_count": 36,
   "metadata": {},
   "outputs": [],
   "source": [
    "import numpy as np\n",
    "msk= np.random.rand(len(df))<0.8\n",
    "train = df[msk]\n",
    "test = df[~msk]"
   ]
  },
  {
   "cell_type": "code",
   "execution_count": 37,
   "metadata": {},
   "outputs": [
    {
     "data": {
      "image/png": "[encoded data removed]",
      "text/plain": [
       "<Figure size 432x288 with 1 Axes>"
      ]
     },
     "metadata": {
      "needs_background": "light"
     },
     "output_type": "display_data"
    }
   ],
   "source": [
    "plt.scatter(train['alcohol'],train['quality'],color='blue')\n",
    "plt.xlabel('alcohol')\n",
    "plt.ylabel('quality')\n",
    "plt.show()"
   ]
  },
  {
   "cell_type": "code",
   "execution_count": 38,
   "metadata": {},
   "outputs": [
    {
     "name": "stdout",
     "output_type": "stream",
     "text": [
      "coefficients:  [[5.34255451]]\n",
      "intercept  [1.89714545]\n"
     ]
    }
   ],
   "source": [
    "#linear regression model\n",
    "from sklearn import linear_model\n",
    "regr= linear_model.LinearRegression()\n",
    "train_x= np.asanyarray(train[['alcohol']])\n",
    "train_y= np.asanyarray(train[['quality']])\n",
    "regr.fit(train_x,train_y)\n",
    "#the coefficients and intercept\n",
    "print('coefficients: ',regr.coef_)\n",
    "print('intercept ',regr.intercept_)"
   ]
  },
  {
   "cell_type": "code",
   "execution_count": 39,
   "metadata": {},
   "outputs": [
    {
     "data": {
      "image/png": "[encoded data removed]",
      "text/plain": [
       "<Figure size 432x288 with 1 Axes>"
      ]
     },
     "metadata": {
      "needs_background": "light"
     },
     "output_type": "display_data"
    }
   ],
   "source": [
    "#plot output\n",
    "plt.scatter(train[['alcohol']],train[['quality']],color='blue')\n",
    "plt.plot(train_x, regr.intercept_+ regr.coef_*train_x,'-r')\n",
    "plt.xlabel('alcohol')\n",
    "plt.ylabel('quality')\n",
    "plt.show()"
   ]
  },
  {
   "cell_type": "code",
   "execution_count": 40,
   "metadata": {},
   "outputs": [
    {
     "name": "stdout",
     "output_type": "stream",
     "text": [
      "MSE:  0.5793172852069314\n",
      "R2_score:  -2.948301015527117\n"
     ]
    }
   ],
   "source": [
    "#evaluation\n",
    "from sklearn.metrics import r2_score\n",
    "test_x= np.asanyarray(test[['alcohol']])\n",
    "test_y= np.asanyarray(test[['quality']])\n",
    "test_y_hat = regr.predict(test_x)\n",
    "print('MSE: ', np.mean(np.absolute(test_y_hat - test_y)))\n",
    "print('R2_score: ', r2_score(test_y_hat,test_y))"
   ]
  },
  {
   "cell_type": "code",
   "execution_count": 41,
   "metadata": {},
   "outputs": [
    {
     "data": {
      "text/html": [
       "<div>\n",
       "<style scoped>\n",
       "    .dataframe tbody tr th:only-of-type {\n",
       "        vertical-align: middle;\n",
       "    }\n",
       "\n",
       "    .dataframe tbody tr th {\n",
       "        vertical-align: top;\n",
       "    }\n",
       "\n",
       "    .dataframe thead th {\n",
       "        text-align: right;\n",
       "    }\n",
       "</style>\n",
       "<table border=\"1\" class=\"dataframe\">\n",
       "  <thead>\n",
       "    <tr style=\"text-align: right;\">\n",
       "      <th></th>\n",
       "      <th>fixed acidity</th>\n",
       "      <th>volatile acidity</th>\n",
       "      <th>citric acid</th>\n",
       "      <th>residual sugar</th>\n",
       "      <th>chlorides</th>\n",
       "      <th>free sulfur dioxide</th>\n",
       "      <th>total sulfur dioxide</th>\n",
       "      <th>density</th>\n",
       "      <th>pH</th>\n",
       "      <th>sulphates</th>\n",
       "      <th>alcohol</th>\n",
       "      <th>quality</th>\n",
       "    </tr>\n",
       "  </thead>\n",
       "  <tbody>\n",
       "    <tr>\n",
       "      <th>0</th>\n",
       "      <td>0.465409</td>\n",
       "      <td>0.70</td>\n",
       "      <td>0.00</td>\n",
       "      <td>0.122581</td>\n",
       "      <td>0.076</td>\n",
       "      <td>0.152778</td>\n",
       "      <td>0.117647</td>\n",
       "      <td>0.9978</td>\n",
       "      <td>0.875312</td>\n",
       "      <td>0.56</td>\n",
       "      <td>0.630872</td>\n",
       "      <td>5</td>\n",
       "    </tr>\n",
       "    <tr>\n",
       "      <th>1</th>\n",
       "      <td>0.490566</td>\n",
       "      <td>0.88</td>\n",
       "      <td>0.00</td>\n",
       "      <td>0.167742</td>\n",
       "      <td>0.098</td>\n",
       "      <td>0.347222</td>\n",
       "      <td>0.231834</td>\n",
       "      <td>0.9968</td>\n",
       "      <td>0.798005</td>\n",
       "      <td>0.68</td>\n",
       "      <td>0.657718</td>\n",
       "      <td>5</td>\n",
       "    </tr>\n",
       "    <tr>\n",
       "      <th>2</th>\n",
       "      <td>0.490566</td>\n",
       "      <td>0.76</td>\n",
       "      <td>0.04</td>\n",
       "      <td>0.148387</td>\n",
       "      <td>0.092</td>\n",
       "      <td>0.208333</td>\n",
       "      <td>0.186851</td>\n",
       "      <td>0.9970</td>\n",
       "      <td>0.812968</td>\n",
       "      <td>0.65</td>\n",
       "      <td>0.657718</td>\n",
       "      <td>5</td>\n",
       "    </tr>\n",
       "    <tr>\n",
       "      <th>3</th>\n",
       "      <td>0.704403</td>\n",
       "      <td>0.28</td>\n",
       "      <td>0.56</td>\n",
       "      <td>0.122581</td>\n",
       "      <td>0.075</td>\n",
       "      <td>0.236111</td>\n",
       "      <td>0.207612</td>\n",
       "      <td>0.9980</td>\n",
       "      <td>0.788030</td>\n",
       "      <td>0.58</td>\n",
       "      <td>0.657718</td>\n",
       "      <td>6</td>\n",
       "    </tr>\n",
       "    <tr>\n",
       "      <th>4</th>\n",
       "      <td>0.465409</td>\n",
       "      <td>0.70</td>\n",
       "      <td>0.00</td>\n",
       "      <td>0.122581</td>\n",
       "      <td>0.076</td>\n",
       "      <td>0.152778</td>\n",
       "      <td>0.117647</td>\n",
       "      <td>0.9978</td>\n",
       "      <td>0.875312</td>\n",
       "      <td>0.56</td>\n",
       "      <td>0.630872</td>\n",
       "      <td>5</td>\n",
       "    </tr>\n",
       "  </tbody>\n",
       "</table>\n",
       "</div>"
      ],
      "text/plain": [
       "   fixed acidity  volatile acidity  citric acid  residual sugar  chlorides  \\\n",
       "0       0.465409              0.70         0.00        0.122581      0.076   \n",
       "1       0.490566              0.88         0.00        0.167742      0.098   \n",
       "2       0.490566              0.76         0.04        0.148387      0.092   \n",
       "3       0.704403              0.28         0.56        0.122581      0.075   \n",
       "4       0.465409              0.70         0.00        0.122581      0.076   \n",
       "\n",
       "   free sulfur dioxide  total sulfur dioxide  density        pH  sulphates  \\\n",
       "0             0.152778              0.117647   0.9978  0.875312       0.56   \n",
       "1             0.347222              0.231834   0.9968  0.798005       0.68   \n",
       "2             0.208333              0.186851   0.9970  0.812968       0.65   \n",
       "3             0.236111              0.207612   0.9980  0.788030       0.58   \n",
       "4             0.152778              0.117647   0.9978  0.875312       0.56   \n",
       "\n",
       "    alcohol  quality  \n",
       "0  0.630872        5  \n",
       "1  0.657718        5  \n",
       "2  0.657718        5  \n",
       "3  0.657718        6  \n",
       "4  0.630872        5  "
      ]
     },
     "execution_count": 41,
     "metadata": {},
     "output_type": "execute_result"
    }
   ],
   "source": [
    "df.head()"
   ]
  },
  {
   "cell_type": "code",
   "execution_count": 45,
   "metadata": {},
   "outputs": [
    {
     "data": {
      "text/plain": [
       "array([[0.46540881, 0.7       , 0.        , ..., 0.56      , 0.63087248,\n",
       "        5.        ],\n",
       "       [0.49056604, 0.88      , 0.        , ..., 0.68      , 0.65771812,\n",
       "        5.        ],\n",
       "       [0.49056604, 0.76      , 0.04      , ..., 0.65      , 0.65771812,\n",
       "        5.        ],\n",
       "       ...,\n",
       "       [0.39622642, 0.51      , 0.13      , ..., 0.75      , 0.73825503,\n",
       "        6.        ],\n",
       "       [0.37106918, 0.645     , 0.12      , ..., 0.71      , 0.68456376,\n",
       "        5.        ],\n",
       "       [0.37735849, 0.31      , 0.47      , ..., 0.66      , 0.73825503,\n",
       "        6.        ]])"
      ]
     },
     "execution_count": 45,
     "metadata": {},
     "output_type": "execute_result"
    }
   ],
   "source": [
    "df.values"
   ]
  },
  {
   "cell_type": "code",
   "execution_count": 47,
   "metadata": {},
   "outputs": [
    {
     "data": {
      "text/plain": [
       "array([[0.        , 0.7       , 0.63087248],\n",
       "       [0.        , 0.88      , 0.65771812],\n",
       "       [0.04      , 0.76      , 0.65771812],\n",
       "       [0.56      , 0.28      , 0.65771812],\n",
       "       [0.        , 0.7       , 0.63087248]])"
      ]
     },
     "execution_count": 47,
     "metadata": {},
     "output_type": "execute_result"
    }
   ],
   "source": [
    "#classification\n",
    "\n",
    "X= df[['citric acid','volatile acidity','alcohol']].values\n",
    "X[0:5]"
   ]
  },
  {
   "cell_type": "code",
   "execution_count": 48,
   "metadata": {},
   "outputs": [
    {
     "data": {
      "text/plain": [
       "array([[5],\n",
       "       [5],\n",
       "       [5],\n",
       "       [6],\n",
       "       [5]])"
      ]
     },
     "execution_count": 48,
     "metadata": {},
     "output_type": "execute_result"
    }
   ],
   "source": [
    "Y= df[['quality']].values\n",
    "Y[0:5]"
   ]
  },
  {
   "cell_type": "code",
   "execution_count": 51,
   "metadata": {},
   "outputs": [
    {
     "data": {
      "text/plain": [
       "array([[-1.39147228,  0.96187667, -0.96024611],\n",
       "       [-1.39147228,  1.96744245, -0.58477711],\n",
       "       [-1.18607043,  1.29706527, -0.58477711],\n",
       "       [ 1.4841536 , -1.38444349, -0.58477711],\n",
       "       [-1.39147228,  0.96187667, -0.96024611]])"
      ]
     },
     "execution_count": 51,
     "metadata": {},
     "output_type": "execute_result"
    }
   ],
   "source": [
    "#normalize data\n",
    "from sklearn import preprocessing\n",
    "X= preprocessing.StandardScaler().fit(X).transform(X.astype(float))\n",
    "X[0:5]"
   ]
  },
  {
   "cell_type": "code",
   "execution_count": 52,
   "metadata": {},
   "outputs": [
    {
     "name": "stdout",
     "output_type": "stream",
     "text": [
      "train set:  (1279, 3) (1279, 1)\n",
      "test set:  (320, 3) (320, 1)\n"
     ]
    }
   ],
   "source": [
    "from sklearn.model_selection import train_test_split\n",
    "X_train,X_test,Y_train,Y_test = train_test_split(X,Y,test_size=0.2,random_state=4)\n",
    "print('train set: ',X_train.shape, Y_train.shape)\n",
    "print('test set: ',X_test.shape, Y_test.shape)"
   ]
  },
  {
   "cell_type": "code",
   "execution_count": 53,
   "metadata": {},
   "outputs": [],
   "source": [
    "#now for classification\n",
    "from sklearn.neighbors import KNeighborsClassifier"
   ]
  },
  {
   "cell_type": "code",
   "execution_count": 91,
   "metadata": {},
   "outputs": [
    {
     "name": "stderr",
     "output_type": "stream",
     "text": [
      "/home/jupyterlab/conda/lib/python3.6/site-packages/ipykernel_launcher.py:3: DataConversionWarning: A column-vector y was passed when a 1d array was expected. Please change the shape of y to (n_samples, ), for example using ravel().\n",
      "  This is separate from the ipykernel package so we can avoid doing imports until\n"
     ]
    },
    {
     "data": {
      "text/plain": [
       "KNeighborsClassifier(algorithm='auto', leaf_size=30, metric='minkowski',\n",
       "           metric_params=None, n_jobs=None, n_neighbors=1, p=2,\n",
       "           weights='uniform')"
      ]
     },
     "execution_count": 91,
     "metadata": {},
     "output_type": "execute_result"
    }
   ],
   "source": [
    "#training\n",
    "k=1\n",
    "neigh = KNeighborsClassifier(n_neighbors=k).fit(X_train,Y_train)\n",
    "neigh"
   ]
  },
  {
   "cell_type": "code",
   "execution_count": 92,
   "metadata": {},
   "outputs": [
    {
     "data": {
      "text/plain": [
       "array([6, 5, 6, 8, 5])"
      ]
     },
     "execution_count": 92,
     "metadata": {},
     "output_type": "execute_result"
    }
   ],
   "source": [
    "#predicting\n",
    "yhat= neigh.predict(X_test)\n",
    "yhat[0:5]"
   ]
  },
  {
   "cell_type": "code",
   "execution_count": 93,
   "metadata": {},
   "outputs": [
    {
     "name": "stdout",
     "output_type": "stream",
     "text": [
      "Train set accuracy:  0.9960906958561376\n",
      "Test set accuracy:  0.6125\n"
     ]
    }
   ],
   "source": [
    "#accuracy evaluation\n",
    "from sklearn import metrics\n",
    "print(\"Train set accuracy: \", metrics.accuracy_score(Y_train,neigh.predict(X_train)))\n",
    "print(\"Test set accuracy: \", metrics.accuracy_score(Y_test,yhat))"
   ]
  },
  {
   "cell_type": "code",
   "execution_count": 78,
   "metadata": {},
   "outputs": [
    {
     "name": "stderr",
     "output_type": "stream",
     "text": [
      "/home/jupyterlab/conda/lib/python3.6/site-packages/ipykernel_launcher.py:7: DataConversionWarning: A column-vector y was passed when a 1d array was expected. Please change the shape of y to (n_samples, ), for example using ravel().\n",
      "  import sys\n",
      "/home/jupyterlab/conda/lib/python3.6/site-packages/ipykernel_launcher.py:7: DataConversionWarning: A column-vector y was passed when a 1d array was expected. Please change the shape of y to (n_samples, ), for example using ravel().\n",
      "  import sys\n",
      "/home/jupyterlab/conda/lib/python3.6/site-packages/ipykernel_launcher.py:7: DataConversionWarning: A column-vector y was passed when a 1d array was expected. Please change the shape of y to (n_samples, ), for example using ravel().\n",
      "  import sys\n",
      "/home/jupyterlab/conda/lib/python3.6/site-packages/ipykernel_launcher.py:7: DataConversionWarning: A column-vector y was passed when a 1d array was expected. Please change the shape of y to (n_samples, ), for example using ravel().\n",
      "  import sys\n",
      "/home/jupyterlab/conda/lib/python3.6/site-packages/ipykernel_launcher.py:7: DataConversionWarning: A column-vector y was passed when a 1d array was expected. Please change the shape of y to (n_samples, ), for example using ravel().\n",
      "  import sys\n",
      "/home/jupyterlab/conda/lib/python3.6/site-packages/ipykernel_launcher.py:7: DataConversionWarning: A column-vector y was passed when a 1d array was expected. Please change the shape of y to (n_samples, ), for example using ravel().\n",
      "  import sys\n",
      "/home/jupyterlab/conda/lib/python3.6/site-packages/ipykernel_launcher.py:7: DataConversionWarning: A column-vector y was passed when a 1d array was expected. Please change the shape of y to (n_samples, ), for example using ravel().\n",
      "  import sys\n",
      "/home/jupyterlab/conda/lib/python3.6/site-packages/ipykernel_launcher.py:7: DataConversionWarning: A column-vector y was passed when a 1d array was expected. Please change the shape of y to (n_samples, ), for example using ravel().\n",
      "  import sys\n",
      "/home/jupyterlab/conda/lib/python3.6/site-packages/ipykernel_launcher.py:7: DataConversionWarning: A column-vector y was passed when a 1d array was expected. Please change the shape of y to (n_samples, ), for example using ravel().\n",
      "  import sys\n"
     ]
    },
    {
     "data": {
      "text/plain": [
       "array([0.6125  , 0.559375, 0.53125 , 0.553125, 0.553125, 0.575   ,\n",
       "       0.55625 , 0.584375, 0.56875 ])"
      ]
     },
     "execution_count": 78,
     "metadata": {},
     "output_type": "execute_result"
    }
   ],
   "source": [
    "#to find best value of K\n",
    "Ks=10\n",
    "mean_acc= np.zeros((Ks-1))\n",
    "std_acc = np.zeros((Ks-1))\n",
    "ConfusionMx=[]\n",
    "for n in range(1,Ks):\n",
    "    neigh= KNeighborsClassifier(n_neighbors=n).fit(X_train,Y_train)\n",
    "    yhat= neigh.predict(X_test)\n",
    "    mean_acc[n-1]= metrics.accuracy_score(Y_test,yhat)\n",
    "    std_acc[n-1]=np.std(yhat==Y_test)/np.sqrt(yhat.shape[0])\n",
    "mean_acc"
   ]
  },
  {
   "cell_type": "code",
   "execution_count": 80,
   "metadata": {},
   "outputs": [
    {
     "data": {
      "image/png": "[encoded data removed]",
      "text/plain": [
       "<Figure size 432x288 with 1 Axes>"
      ]
     },
     "metadata": {
      "needs_background": "light"
     },
     "output_type": "display_data"
    },
    {
     "name": "stdout",
     "output_type": "stream",
     "text": [
      "the best accuracy was with 0.6125  with K=  1\n"
     ]
    }
   ],
   "source": [
    "#plot the model accuracy\n",
    "plt.plot(range(1,Ks),mean_acc,'g')\n",
    "plt.fill_between(range(1,Ks),mean_acc-1*std_acc,mean_acc+1*std_acc,alpha=0.10)\n",
    "plt.legend(('Accuracy', '+/-3xsd'))\n",
    "plt.tight_layout()\n",
    "plt.show()\n",
    "print(\"the best accuracy was with\", mean_acc.max(),\" with K= \",mean_acc.argmax()+1)"
   ]
  },
  {
   "cell_type": "code",
   "execution_count": null,
   "metadata": {},
   "outputs": [],
   "source": []
  }
 ],
 "metadata": {
  "kernelspec": {
   "display_name": "Python 3",
   "language": "python",
   "name": "python3"
  },
  "language_info": {
   "codemirror_mode": {
    "name": "ipython",
    "version": 3
   },
   "file_extension": ".py",
   "mimetype": "text/x-python",
   "name": "python",
   "nbconvert_exporter": "python",
   "pygments_lexer": "ipython3",
   "version": "3.6.8"
  }
 },
 "nbformat": 4,
 "nbformat_minor": 2
}
